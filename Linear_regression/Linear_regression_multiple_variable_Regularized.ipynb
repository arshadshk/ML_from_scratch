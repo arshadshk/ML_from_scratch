{
 "cells": [
  {
   "cell_type": "code",
   "execution_count": 1,
   "metadata": {},
   "outputs": [],
   "source": [
    "import numpy as np\n",
    "import pandas as pd\n",
    "import math\n",
    "from tqdm import tqdm\n",
    "import matplotlib.pyplot as plt"
   ]
  },
  {
   "cell_type": "code",
   "execution_count": 2,
   "metadata": {},
   "outputs": [],
   "source": [
    "df = pd.read_csv('Boston.csv',index_col=False)\n",
    "X = df[['crim', 'zn', 'indus', 'age', 'dis',\n",
    "       'rad']]\n",
    "Y = df[['medv']]"
   ]
  },
  {
   "cell_type": "code",
   "execution_count": 3,
   "metadata": {},
   "outputs": [],
   "source": [
    "def derivative(x,y,h,m,w,a,L):\n",
    "    dv1 = w*(1-((a*L)/m))\n",
    "    dv2 = a*(1/m)*np.sum(np.dot(x.T,(h-y)))\n",
    "    return dv1-dv2\n",
    "\n",
    "def cost(y,h,m):\n",
    "    return (1/(2*m))*(np.sum((h-y)**2))\n",
    "                                \n",
    "def linear_reg(X,Y,a,epoch,L):\n",
    "    \n",
    "    theta0 = np.ones((X.shape))\n",
    "    X = np.concatenate((theta0,X), axis=1)\n",
    "    \n",
    "    xr,xc = X.shape\n",
    "    m = xc\n",
    "    w = np.zeros((xc,1))\n",
    "    \n",
    "    for i in tqdm(range(0,epoch)): \n",
    "        h = np.dot(X,w)\n",
    "                    \n",
    "        gradd = derivative(X,Y,h,m,w,a,L)\n",
    "        cost_t.append(cost(Y,h,m))\n",
    "        w = gradd\n",
    "        \n",
    "    result = np.dot(X,w)\n",
    "    return result\n",
    "    "
   ]
  },
  {
   "cell_type": "code",
   "execution_count": 4,
   "metadata": {},
   "outputs": [
    {
     "name": "stderr",
     "output_type": "stream",
     "text": [
      "100%|█████████████████████████████████████| 1000/1000 [00:02<00:00, 351.47it/s]\n"
     ]
    }
   ],
   "source": [
    "cost_t = []\n",
    "lr = linear_reg(X,Y,0.00000001, 1000,0.5)"
   ]
  },
  {
   "cell_type": "code",
   "execution_count": 5,
   "metadata": {},
   "outputs": [
    {
     "data": {
      "text/plain": [
       "[<matplotlib.lines.Line2D at 0x2b26870>]"
      ]
     },
     "execution_count": 5,
     "metadata": {},
     "output_type": "execute_result"
    },
    {
     "data": {
      "image/png": "[encoded data removed]",
      "text/plain": [
       "<Figure size 432x288 with 1 Axes>"
      ]
     },
     "metadata": {},
     "output_type": "display_data"
    }
   ],
   "source": [
    "plt.plot(cost_t)"
   ]
  },
  {
   "cell_type": "code",
   "execution_count": 6,
   "metadata": {},
   "outputs": [],
   "source": [
    "from sklearn.metrics import mean_squared_error"
   ]
  },
  {
   "cell_type": "code",
   "execution_count": 7,
   "metadata": {},
   "outputs": [
    {
     "data": {
      "text/plain": [
       "164.92912415213934"
      ]
     },
     "execution_count": 7,
     "metadata": {},
     "output_type": "execute_result"
    }
   ],
   "source": [
    "mean_squared_error(Y,lr)"
   ]
  },
  {
   "cell_type": "code",
   "execution_count": null,
   "metadata": {},
   "outputs": [],
   "source": []
  }
 ],
 "metadata": {
  "kernelspec": {
   "display_name": "Python 3",
   "language": "python",
   "name": "python3"
  },
  "language_info": {
   "codemirror_mode": {
    "name": "ipython",
    "version": 3
   },
   "file_extension": ".py",
   "mimetype": "text/x-python",
   "name": "python",
   "nbconvert_exporter": "python",
   "pygments_lexer": "ipython3",
   "version": "3.6.5"
  }
 },
 "nbformat": 4,
 "nbformat_minor": 2
}
